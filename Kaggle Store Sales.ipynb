{
 "cells": [
  {
   "cell_type": "code",
   "execution_count": 1,
   "id": "34091413-5d1f-4a78-b1c9-16f16d937b90",
   "metadata": {},
   "outputs": [],
   "source": [
    "import pandas as pd\n",
    "import numpy as np\n",
    "import seaborn as sns\n",
    "import time\n",
    "import sys\n",
    "import warnings\n",
    "import math\n",
    "import json\n",
    "import requests\n",
    "\n",
    "\n",
    "import optuna\n",
    "from optuna.samplers import TPESampler\n",
    "from matplotlib import pyplot as plt\n",
    "from sklearn import datasets as dat\n",
    "from sklearn import model_selection as mod\n",
    "from sklearn import pipeline as pip\n",
    "from sklearn import preprocessing as pre\n",
    "from sklearn import base\n",
    "from sklearn import impute as imp\n",
    "from sklearn import ensemble as ens\n",
    "from sklearn import compose as com\n",
    "from sklearn import metrics as met\n",
    "from sklearn import feature_selection as fea\n",
    "from sklearn import tree\n",
    "from sklearn import linear_model as lin\n",
    "from sklearn.metrics import r2_score\n",
    "import statsmodels.api as sm\n",
    "from scipy import stats\n",
    "from sklearn import cluster as clu\n",
    "from sklearn.preprocessing import StandardScaler\n",
    "from sklearn.cluster import KMeans\n",
    "from sklearn.pipeline import Pipeline\n",
    "import pandas as pd\n",
    "import numpy as np\n",
    "from sklearn.preprocessing import StandardScaler, OneHotEncoder\n",
    "from sklearn.cluster import DBSCAN\n",
    "from sklearn.compose import ColumnTransformer\n",
    "from sklearn.pipeline import Pipeline\n",
    "from sklearn.impute import SimpleImputer\n",
    "import xgboost.sklearn as xgb\n",
    "from sklearn.model_selection import GridSearchCV, RandomizedSearchCV\n",
    "from statsmodels.graphics.gofplots import qqplot\n",
    "# DAY OR NIGHT\n",
    "from astral.sun import sun\n",
    "from astral import LocationInfo\n",
    "\n",
    "warnings.filterwarnings(\"ignore\", category=UserWarning)\n",
    "sys.path.append('../../../')\n",
    "\n",
    "\n",
    "pd.options.plotting.backend = \"plotly\"\n",
    "pd.set_option('display.max_rows', 1000)\n",
    "pd.set_option('display.max_columns', 500)\n",
    "pd.set_option('display.width', 1000)\n",
    "\n",
    "import lightgbm as lgbm\n",
    "from catboost import CatBoostRegressor\n",
    "from sklearn.linear_model import LinearRegression\n",
    "from xgboost import XGBRegressor\n",
    "from lightgbm import LGBMRegressor\n",
    "import datetime\n",
    "import pickle\n",
    "import sqlalchemy as sa\n",
    "\n",
    "# For Statistical\n",
    "from statsmodels.tsa.seasonal import seasonal_decompose\n",
    "from statsmodels.graphics.tsaplots import plot_acf\n",
    "\n",
    "from sklearn.metrics import mean_squared_error\n",
    "from sklearn.metrics import mean_absolute_error\n",
    "from lofo import LOFOImportance, Dataset, plot_importance\n",
    "import matplotlib.pyplot as plt\n",
    "from sklearn.model_selection import TimeSeriesSplit\n",
    "from sklearn.metrics import mean_squared_log_error,make_scorer\n",
    "from sklearn.model_selection import GridSearchCV"
   ]
  },
  {
   "cell_type": "code",
   "execution_count": 2,
   "id": "03cfd06c-4247-4988-865d-5e61226ce655",
   "metadata": {},
   "outputs": [],
   "source": [
    "stores= pd.read_csv(\"stores.csv\")\n",
    "oil=pd.read_csv(\"oil.csv\")\n",
    "transactions=pd.read_csv(\"transactions.csv\")\n",
    "holidays_events=pd.read_csv(\"holidays_events.csv\")\n",
    "df = pd.read_csv(\"train.csv\")\n",
    "df_test = pd.read_csv(\"test.csv\")"
   ]
  },
  {
   "cell_type": "code",
   "execution_count": 3,
   "id": "ed185f75-ab0c-44d5-a4af-7916df9b940d",
   "metadata": {},
   "outputs": [],
   "source": [
    "df['date'] = pd.to_datetime(df['date'])\n",
    "holidays_events['date'] = pd.to_datetime(holidays_events['date'])\n",
    "oil['date'] = pd.to_datetime(oil['date'])\n",
    "transactions['date'] = pd.to_datetime(transactions['date'])\n",
    "\n",
    "df['date'] = pd.to_datetime(df['date'])\n",
    "df['store_nbr'] = df['store_nbr'].astype(int)\n",
    "df['family'] = df['family'].astype(str)\n",
    "df['sales'] = df['sales'].astype(int)\n",
    "df['onpromotion'] = df['onpromotion'].astype(int)\n",
    "\n",
    "merged_df = pd.merge(df, stores, on='store_nbr', how='left')\n",
    "merged_df = pd.merge(merged_df, oil, on='date', how='left')\n",
    "merged_df = pd.merge(merged_df, transactions, on=['date', 'store_nbr'], how='left')\n",
    "merged_df = merged_df.sort_values(by='date', ascending=False)\n",
    "\n",
    "merged_df.reset_index(drop=True, inplace=True)\n",
    "merged_df = merged_df.drop(columns=['id'])\n",
    "df=merged_df"
   ]
  },
  {
   "cell_type": "code",
   "execution_count": 4,
   "id": "ab8d5434-63d3-4e46-b93a-dc92260fe672",
   "metadata": {},
   "outputs": [
    {
     "data": {
      "text/html": [
       "<div>\n",
       "<style scoped>\n",
       "    .dataframe tbody tr th:only-of-type {\n",
       "        vertical-align: middle;\n",
       "    }\n",
       "\n",
       "    .dataframe tbody tr th {\n",
       "        vertical-align: top;\n",
       "    }\n",
       "\n",
       "    .dataframe thead th {\n",
       "        text-align: right;\n",
       "    }\n",
       "</style>\n",
       "<table border=\"1\" class=\"dataframe\">\n",
       "  <thead>\n",
       "    <tr style=\"text-align: right;\">\n",
       "      <th></th>\n",
       "      <th>date</th>\n",
       "      <th>store_nbr</th>\n",
       "      <th>family</th>\n",
       "      <th>sales</th>\n",
       "      <th>onpromotion</th>\n",
       "      <th>city</th>\n",
       "      <th>state</th>\n",
       "      <th>type</th>\n",
       "      <th>cluster</th>\n",
       "      <th>dcoilwtico</th>\n",
       "      <th>transactions</th>\n",
       "    </tr>\n",
       "  </thead>\n",
       "  <tbody>\n",
       "    <tr>\n",
       "      <th>0</th>\n",
       "      <td>2017-08-15</td>\n",
       "      <td>9</td>\n",
       "      <td>SEAFOOD</td>\n",
       "      <td>16</td>\n",
       "      <td>0</td>\n",
       "      <td>Quito</td>\n",
       "      <td>Pichincha</td>\n",
       "      <td>B</td>\n",
       "      <td>6</td>\n",
       "      <td>47.57</td>\n",
       "      <td>2155.0</td>\n",
       "    </tr>\n",
       "    <tr>\n",
       "      <th>1</th>\n",
       "      <td>2017-08-15</td>\n",
       "      <td>26</td>\n",
       "      <td>BEVERAGES</td>\n",
       "      <td>762</td>\n",
       "      <td>10</td>\n",
       "      <td>Guayaquil</td>\n",
       "      <td>Guayas</td>\n",
       "      <td>D</td>\n",
       "      <td>10</td>\n",
       "      <td>47.57</td>\n",
       "      <td>534.0</td>\n",
       "    </tr>\n",
       "    <tr>\n",
       "      <th>2</th>\n",
       "      <td>2017-08-15</td>\n",
       "      <td>25</td>\n",
       "      <td>PERSONAL CARE</td>\n",
       "      <td>93</td>\n",
       "      <td>8</td>\n",
       "      <td>Salinas</td>\n",
       "      <td>Santa Elena</td>\n",
       "      <td>D</td>\n",
       "      <td>1</td>\n",
       "      <td>47.57</td>\n",
       "      <td>849.0</td>\n",
       "    </tr>\n",
       "    <tr>\n",
       "      <th>3</th>\n",
       "      <td>2017-08-15</td>\n",
       "      <td>25</td>\n",
       "      <td>PET SUPPLIES</td>\n",
       "      <td>3</td>\n",
       "      <td>0</td>\n",
       "      <td>Salinas</td>\n",
       "      <td>Santa Elena</td>\n",
       "      <td>D</td>\n",
       "      <td>1</td>\n",
       "      <td>47.57</td>\n",
       "      <td>849.0</td>\n",
       "    </tr>\n",
       "    <tr>\n",
       "      <th>4</th>\n",
       "      <td>2017-08-15</td>\n",
       "      <td>25</td>\n",
       "      <td>PLAYERS AND ELECTRONICS</td>\n",
       "      <td>3</td>\n",
       "      <td>0</td>\n",
       "      <td>Salinas</td>\n",
       "      <td>Santa Elena</td>\n",
       "      <td>D</td>\n",
       "      <td>1</td>\n",
       "      <td>47.57</td>\n",
       "      <td>849.0</td>\n",
       "    </tr>\n",
       "  </tbody>\n",
       "</table>\n",
       "</div>"
      ],
      "text/plain": [
       "        date  store_nbr                   family  sales  onpromotion       city        state type  cluster  dcoilwtico  transactions\n",
       "0 2017-08-15          9                  SEAFOOD     16            0      Quito    Pichincha    B        6       47.57        2155.0\n",
       "1 2017-08-15         26                BEVERAGES    762           10  Guayaquil       Guayas    D       10       47.57         534.0\n",
       "2 2017-08-15         25            PERSONAL CARE     93            8    Salinas  Santa Elena    D        1       47.57         849.0\n",
       "3 2017-08-15         25             PET SUPPLIES      3            0    Salinas  Santa Elena    D        1       47.57         849.0\n",
       "4 2017-08-15         25  PLAYERS AND ELECTRONICS      3            0    Salinas  Santa Elena    D        1       47.57         849.0"
      ]
     },
     "execution_count": 4,
     "metadata": {},
     "output_type": "execute_result"
    }
   ],
   "source": [
    "df.head()"
   ]
  },
  {
   "cell_type": "code",
   "execution_count": 5,
   "id": "ff7945ca-08cb-4d07-918b-4eaef6897ada",
   "metadata": {},
   "outputs": [],
   "source": [
    "food_and_beverage_categories = [\n",
    "    'SEAFOOD', 'BEVERAGES', 'POULTRY', 'PREPARED FOODS', 'PRODUCE',\n",
    "    'BREAD/BAKERY', 'DAIRY', 'DELI', 'EGGS', 'FROZEN FOODS', 'MEATS',\n",
    "    'LIQUOR,WINE,BEER'\n",
    "]\n",
    "\n",
    "household_and_cleaning_categories = ['PERSONAL CARE', 'CLEANING', 'HOME CARE', 'LAWN AND GARDEN']\n",
    "\n",
    "electronics_and_appliances_categories = ['PLAYERS AND ELECTRONICS', 'HOME APPLIANCES', 'HARDWARE']\n",
    "\n",
    "apparel_and_personal_items_categories = ['BABY CARE', 'BEAUTY', 'LINGERIE', 'LADIESWEAR']\n",
    "\n",
    "home_and_office_supplies_categories = ['SCHOOL AND OFFICE SUPPLIES', 'HOME AND KITCHEN I', 'HOME AND KITCHEN II', 'CELEBRATION']\n",
    "\n",
    "miscellaneous_categories = ['PET SUPPLIES', 'AUTOMOTIVE', 'BOOKS', 'MAGAZINES', 'GROCERY I', 'GROCERY II']\n",
    "\n",
    "# Create a new column 'group' based on the conditions\n",
    "df['group'] = df['family'].apply(lambda x: \n",
    "                                 'food and beverage' if x in food_and_beverage_categories \n",
    "                                 else ('household and cleaning' if x in household_and_cleaning_categories \n",
    "                                       else ('electronics and appliances' if x in electronics_and_appliances_categories \n",
    "                                             else ('apparel and personal items' if x in apparel_and_personal_items_categories \n",
    "                                                   else ('home and office supplies' if x in home_and_office_supplies_categories \n",
    "                                                         else ('miscellaneous' if x in miscellaneous_categories \n",
    "                                                               else 0))))))"
   ]
  },
  {
   "cell_type": "code",
   "execution_count": 6,
   "id": "8decf9a5-6236-41da-ba2a-21d0091f967a",
   "metadata": {},
   "outputs": [
    {
     "data": {
      "text/plain": [
       "array(['food and beverage', 'household and cleaning', 'miscellaneous',\n",
       "       'electronics and appliances', 'home and office supplies',\n",
       "       'apparel and personal items'], dtype=object)"
      ]
     },
     "execution_count": 6,
     "metadata": {},
     "output_type": "execute_result"
    }
   ],
   "source": [
    "df['group'].unique()"
   ]
  },
  {
   "cell_type": "code",
   "execution_count": 7,
   "id": "a676e46f-5107-4cd2-aee8-40aecccbf68f",
   "metadata": {},
   "outputs": [],
   "source": [
    "df = df.drop(['family'], axis=1)"
   ]
  },
  {
   "cell_type": "code",
   "execution_count": 8,
   "id": "fb03b9b0-58a4-4de9-b0dd-81e7f1509d99",
   "metadata": {},
   "outputs": [
    {
     "data": {
      "text/html": [
       "<div>\n",
       "<style scoped>\n",
       "    .dataframe tbody tr th:only-of-type {\n",
       "        vertical-align: middle;\n",
       "    }\n",
       "\n",
       "    .dataframe tbody tr th {\n",
       "        vertical-align: top;\n",
       "    }\n",
       "\n",
       "    .dataframe thead th {\n",
       "        text-align: right;\n",
       "    }\n",
       "</style>\n",
       "<table border=\"1\" class=\"dataframe\">\n",
       "  <thead>\n",
       "    <tr style=\"text-align: right;\">\n",
       "      <th></th>\n",
       "      <th>date</th>\n",
       "      <th>store_nbr</th>\n",
       "      <th>sales</th>\n",
       "      <th>onpromotion</th>\n",
       "      <th>city</th>\n",
       "      <th>state</th>\n",
       "      <th>type</th>\n",
       "      <th>cluster</th>\n",
       "      <th>dcoilwtico</th>\n",
       "      <th>transactions</th>\n",
       "      <th>group</th>\n",
       "    </tr>\n",
       "  </thead>\n",
       "  <tbody>\n",
       "    <tr>\n",
       "      <th>0</th>\n",
       "      <td>2017-08-15</td>\n",
       "      <td>9</td>\n",
       "      <td>16</td>\n",
       "      <td>0</td>\n",
       "      <td>Quito</td>\n",
       "      <td>Pichincha</td>\n",
       "      <td>B</td>\n",
       "      <td>6</td>\n",
       "      <td>47.57</td>\n",
       "      <td>2155.0</td>\n",
       "      <td>food and beverage</td>\n",
       "    </tr>\n",
       "    <tr>\n",
       "      <th>1</th>\n",
       "      <td>2017-08-15</td>\n",
       "      <td>26</td>\n",
       "      <td>762</td>\n",
       "      <td>10</td>\n",
       "      <td>Guayaquil</td>\n",
       "      <td>Guayas</td>\n",
       "      <td>D</td>\n",
       "      <td>10</td>\n",
       "      <td>47.57</td>\n",
       "      <td>534.0</td>\n",
       "      <td>food and beverage</td>\n",
       "    </tr>\n",
       "    <tr>\n",
       "      <th>2</th>\n",
       "      <td>2017-08-15</td>\n",
       "      <td>25</td>\n",
       "      <td>93</td>\n",
       "      <td>8</td>\n",
       "      <td>Salinas</td>\n",
       "      <td>Santa Elena</td>\n",
       "      <td>D</td>\n",
       "      <td>1</td>\n",
       "      <td>47.57</td>\n",
       "      <td>849.0</td>\n",
       "      <td>household and cleaning</td>\n",
       "    </tr>\n",
       "    <tr>\n",
       "      <th>3</th>\n",
       "      <td>2017-08-15</td>\n",
       "      <td>25</td>\n",
       "      <td>3</td>\n",
       "      <td>0</td>\n",
       "      <td>Salinas</td>\n",
       "      <td>Santa Elena</td>\n",
       "      <td>D</td>\n",
       "      <td>1</td>\n",
       "      <td>47.57</td>\n",
       "      <td>849.0</td>\n",
       "      <td>miscellaneous</td>\n",
       "    </tr>\n",
       "    <tr>\n",
       "      <th>4</th>\n",
       "      <td>2017-08-15</td>\n",
       "      <td>25</td>\n",
       "      <td>3</td>\n",
       "      <td>0</td>\n",
       "      <td>Salinas</td>\n",
       "      <td>Santa Elena</td>\n",
       "      <td>D</td>\n",
       "      <td>1</td>\n",
       "      <td>47.57</td>\n",
       "      <td>849.0</td>\n",
       "      <td>electronics and appliances</td>\n",
       "    </tr>\n",
       "  </tbody>\n",
       "</table>\n",
       "</div>"
      ],
      "text/plain": [
       "        date  store_nbr  sales  onpromotion       city        state type  cluster  dcoilwtico  transactions                       group\n",
       "0 2017-08-15          9     16            0      Quito    Pichincha    B        6       47.57        2155.0           food and beverage\n",
       "1 2017-08-15         26    762           10  Guayaquil       Guayas    D       10       47.57         534.0           food and beverage\n",
       "2 2017-08-15         25     93            8    Salinas  Santa Elena    D        1       47.57         849.0      household and cleaning\n",
       "3 2017-08-15         25      3            0    Salinas  Santa Elena    D        1       47.57         849.0               miscellaneous\n",
       "4 2017-08-15         25      3            0    Salinas  Santa Elena    D        1       47.57         849.0  electronics and appliances"
      ]
     },
     "execution_count": 8,
     "metadata": {},
     "output_type": "execute_result"
    }
   ],
   "source": [
    "df.head()"
   ]
  },
  {
   "cell_type": "code",
   "execution_count": 9,
   "id": "1e2df5e6-9a79-43d7-b8d7-d1a881a034bf",
   "metadata": {},
   "outputs": [
    {
     "data": {
      "text/html": [
       "<div>\n",
       "<style scoped>\n",
       "    .dataframe tbody tr th:only-of-type {\n",
       "        vertical-align: middle;\n",
       "    }\n",
       "\n",
       "    .dataframe tbody tr th {\n",
       "        vertical-align: top;\n",
       "    }\n",
       "\n",
       "    .dataframe thead th {\n",
       "        text-align: right;\n",
       "    }\n",
       "</style>\n",
       "<table border=\"1\" class=\"dataframe\">\n",
       "  <thead>\n",
       "    <tr style=\"text-align: right;\">\n",
       "      <th></th>\n",
       "      <th>store_nbr</th>\n",
       "      <th>sales</th>\n",
       "      <th>onpromotion</th>\n",
       "      <th>cluster</th>\n",
       "      <th>dcoilwtico</th>\n",
       "      <th>transactions</th>\n",
       "    </tr>\n",
       "  </thead>\n",
       "  <tbody>\n",
       "    <tr>\n",
       "      <th>count</th>\n",
       "      <td>3.000888e+06</td>\n",
       "      <td>3.000888e+06</td>\n",
       "      <td>3.000888e+06</td>\n",
       "      <td>3.000888e+06</td>\n",
       "      <td>2.072466e+06</td>\n",
       "      <td>2.755104e+06</td>\n",
       "    </tr>\n",
       "    <tr>\n",
       "      <th>mean</th>\n",
       "      <td>2.750000e+01</td>\n",
       "      <td>3.576988e+02</td>\n",
       "      <td>2.602770e+00</td>\n",
       "      <td>8.481481e+00</td>\n",
       "      <td>6.792559e+01</td>\n",
       "      <td>1.694602e+03</td>\n",
       "    </tr>\n",
       "    <tr>\n",
       "      <th>std</th>\n",
       "      <td>1.558579e+01</td>\n",
       "      <td>1.101976e+03</td>\n",
       "      <td>1.221888e+01</td>\n",
       "      <td>4.649735e+00</td>\n",
       "      <td>2.566633e+01</td>\n",
       "      <td>9.632810e+02</td>\n",
       "    </tr>\n",
       "    <tr>\n",
       "      <th>min</th>\n",
       "      <td>1.000000e+00</td>\n",
       "      <td>0.000000e+00</td>\n",
       "      <td>0.000000e+00</td>\n",
       "      <td>1.000000e+00</td>\n",
       "      <td>2.619000e+01</td>\n",
       "      <td>5.000000e+00</td>\n",
       "    </tr>\n",
       "    <tr>\n",
       "      <th>25%</th>\n",
       "      <td>1.400000e+01</td>\n",
       "      <td>0.000000e+00</td>\n",
       "      <td>0.000000e+00</td>\n",
       "      <td>4.000000e+00</td>\n",
       "      <td>4.638000e+01</td>\n",
       "      <td>1.046000e+03</td>\n",
       "    </tr>\n",
       "    <tr>\n",
       "      <th>50%</th>\n",
       "      <td>2.750000e+01</td>\n",
       "      <td>1.100000e+01</td>\n",
       "      <td>0.000000e+00</td>\n",
       "      <td>8.500000e+00</td>\n",
       "      <td>5.333000e+01</td>\n",
       "      <td>1.393000e+03</td>\n",
       "    </tr>\n",
       "    <tr>\n",
       "      <th>75%</th>\n",
       "      <td>4.100000e+01</td>\n",
       "      <td>1.950000e+02</td>\n",
       "      <td>0.000000e+00</td>\n",
       "      <td>1.300000e+01</td>\n",
       "      <td>9.580000e+01</td>\n",
       "      <td>2.079000e+03</td>\n",
       "    </tr>\n",
       "    <tr>\n",
       "      <th>max</th>\n",
       "      <td>5.400000e+01</td>\n",
       "      <td>1.247170e+05</td>\n",
       "      <td>7.410000e+02</td>\n",
       "      <td>1.700000e+01</td>\n",
       "      <td>1.106200e+02</td>\n",
       "      <td>8.359000e+03</td>\n",
       "    </tr>\n",
       "  </tbody>\n",
       "</table>\n",
       "</div>"
      ],
      "text/plain": [
       "          store_nbr         sales   onpromotion       cluster    dcoilwtico  transactions\n",
       "count  3.000888e+06  3.000888e+06  3.000888e+06  3.000888e+06  2.072466e+06  2.755104e+06\n",
       "mean   2.750000e+01  3.576988e+02  2.602770e+00  8.481481e+00  6.792559e+01  1.694602e+03\n",
       "std    1.558579e+01  1.101976e+03  1.221888e+01  4.649735e+00  2.566633e+01  9.632810e+02\n",
       "min    1.000000e+00  0.000000e+00  0.000000e+00  1.000000e+00  2.619000e+01  5.000000e+00\n",
       "25%    1.400000e+01  0.000000e+00  0.000000e+00  4.000000e+00  4.638000e+01  1.046000e+03\n",
       "50%    2.750000e+01  1.100000e+01  0.000000e+00  8.500000e+00  5.333000e+01  1.393000e+03\n",
       "75%    4.100000e+01  1.950000e+02  0.000000e+00  1.300000e+01  9.580000e+01  2.079000e+03\n",
       "max    5.400000e+01  1.247170e+05  7.410000e+02  1.700000e+01  1.106200e+02  8.359000e+03"
      ]
     },
     "execution_count": 9,
     "metadata": {},
     "output_type": "execute_result"
    }
   ],
   "source": [
    "df.describe()"
   ]
  },
  {
   "cell_type": "code",
   "execution_count": 10,
   "id": "cef9b589-b3b3-4a33-9736-d8b9a957b328",
   "metadata": {},
   "outputs": [
    {
     "data": {
      "text/html": [
       "<div>\n",
       "<style scoped>\n",
       "    .dataframe tbody tr th:only-of-type {\n",
       "        vertical-align: middle;\n",
       "    }\n",
       "\n",
       "    .dataframe tbody tr th {\n",
       "        vertical-align: top;\n",
       "    }\n",
       "\n",
       "    .dataframe thead th {\n",
       "        text-align: right;\n",
       "    }\n",
       "</style>\n",
       "<table border=\"1\" class=\"dataframe\">\n",
       "  <thead>\n",
       "    <tr style=\"text-align: right;\">\n",
       "      <th></th>\n",
       "      <th>date</th>\n",
       "      <th>store_nbr</th>\n",
       "      <th>sales</th>\n",
       "      <th>onpromotion</th>\n",
       "      <th>city</th>\n",
       "      <th>state</th>\n",
       "      <th>type</th>\n",
       "      <th>cluster</th>\n",
       "      <th>dcoilwtico</th>\n",
       "      <th>transactions</th>\n",
       "      <th>group</th>\n",
       "    </tr>\n",
       "  </thead>\n",
       "  <tbody>\n",
       "    <tr>\n",
       "      <th>0</th>\n",
       "      <td>2017-08-15</td>\n",
       "      <td>9</td>\n",
       "      <td>16</td>\n",
       "      <td>0</td>\n",
       "      <td>Quito</td>\n",
       "      <td>Pichincha</td>\n",
       "      <td>B</td>\n",
       "      <td>6</td>\n",
       "      <td>47.57</td>\n",
       "      <td>2155.0</td>\n",
       "      <td>food and beverage</td>\n",
       "    </tr>\n",
       "    <tr>\n",
       "      <th>1</th>\n",
       "      <td>2017-08-15</td>\n",
       "      <td>26</td>\n",
       "      <td>762</td>\n",
       "      <td>10</td>\n",
       "      <td>Guayaquil</td>\n",
       "      <td>Guayas</td>\n",
       "      <td>D</td>\n",
       "      <td>10</td>\n",
       "      <td>47.57</td>\n",
       "      <td>534.0</td>\n",
       "      <td>food and beverage</td>\n",
       "    </tr>\n",
       "    <tr>\n",
       "      <th>2</th>\n",
       "      <td>2017-08-15</td>\n",
       "      <td>25</td>\n",
       "      <td>93</td>\n",
       "      <td>8</td>\n",
       "      <td>Salinas</td>\n",
       "      <td>Santa Elena</td>\n",
       "      <td>D</td>\n",
       "      <td>1</td>\n",
       "      <td>47.57</td>\n",
       "      <td>849.0</td>\n",
       "      <td>household and cleaning</td>\n",
       "    </tr>\n",
       "    <tr>\n",
       "      <th>3</th>\n",
       "      <td>2017-08-15</td>\n",
       "      <td>25</td>\n",
       "      <td>3</td>\n",
       "      <td>0</td>\n",
       "      <td>Salinas</td>\n",
       "      <td>Santa Elena</td>\n",
       "      <td>D</td>\n",
       "      <td>1</td>\n",
       "      <td>47.57</td>\n",
       "      <td>849.0</td>\n",
       "      <td>miscellaneous</td>\n",
       "    </tr>\n",
       "    <tr>\n",
       "      <th>4</th>\n",
       "      <td>2017-08-15</td>\n",
       "      <td>25</td>\n",
       "      <td>3</td>\n",
       "      <td>0</td>\n",
       "      <td>Salinas</td>\n",
       "      <td>Santa Elena</td>\n",
       "      <td>D</td>\n",
       "      <td>1</td>\n",
       "      <td>47.57</td>\n",
       "      <td>849.0</td>\n",
       "      <td>electronics and appliances</td>\n",
       "    </tr>\n",
       "  </tbody>\n",
       "</table>\n",
       "</div>"
      ],
      "text/plain": [
       "        date  store_nbr  sales  onpromotion       city        state type  cluster  dcoilwtico  transactions                       group\n",
       "0 2017-08-15          9     16            0      Quito    Pichincha    B        6       47.57        2155.0           food and beverage\n",
       "1 2017-08-15         26    762           10  Guayaquil       Guayas    D       10       47.57         534.0           food and beverage\n",
       "2 2017-08-15         25     93            8    Salinas  Santa Elena    D        1       47.57         849.0      household and cleaning\n",
       "3 2017-08-15         25      3            0    Salinas  Santa Elena    D        1       47.57         849.0               miscellaneous\n",
       "4 2017-08-15         25      3            0    Salinas  Santa Elena    D        1       47.57         849.0  electronics and appliances"
      ]
     },
     "execution_count": 10,
     "metadata": {},
     "output_type": "execute_result"
    }
   ],
   "source": [
    "df.head()"
   ]
  },
  {
   "cell_type": "code",
   "execution_count": 11,
   "id": "df82a762-f391-4d0c-94c7-92c86642a9b7",
   "metadata": {},
   "outputs": [
    {
     "name": "stderr",
     "output_type": "stream",
     "text": [
      "C:\\Users\\gulsemin.basaran\\AppData\\Local\\Temp\\ipykernel_46560\\48554092.py:3: FutureWarning: Series.dt.weekofyear and Series.dt.week have been deprecated. Please use Series.dt.isocalendar().week instead.\n",
      "  df['Week'] = df['date'].dt.week\n",
      "C:\\Users\\gulsemin.basaran\\AppData\\Local\\Temp\\ipykernel_46560\\48554092.py:7: FutureWarning: Series.dt.weekofyear and Series.dt.week have been deprecated. Please use Series.dt.isocalendar().week instead.\n",
      "  df[\"WeekOfYear\"] = df[\"date\"].dt.weekofyear\n"
     ]
    }
   ],
   "source": [
    "df['DayOfWeek'] = df['date'].dt.dayofweek\n",
    "df['date'] = pd.to_datetime(df['date'])\n",
    "df['Week'] = df['date'].dt.week\n",
    "df['Month'] = df['date'].dt.month\n",
    "df[\"Quarter\"] = df[\"date\"].dt.quarter\n",
    "df[\"Year\"] = df[\"date\"].dt.year\n",
    "df[\"WeekOfYear\"] = df[\"date\"].dt.weekofyear"
   ]
  },
  {
   "cell_type": "code",
   "execution_count": 12,
   "id": "3835c75a-911f-46d6-9d43-863baedee9bf",
   "metadata": {},
   "outputs": [
    {
     "data": {
      "text/html": [
       "<div>\n",
       "<style scoped>\n",
       "    .dataframe tbody tr th:only-of-type {\n",
       "        vertical-align: middle;\n",
       "    }\n",
       "\n",
       "    .dataframe tbody tr th {\n",
       "        vertical-align: top;\n",
       "    }\n",
       "\n",
       "    .dataframe thead th {\n",
       "        text-align: right;\n",
       "    }\n",
       "</style>\n",
       "<table border=\"1\" class=\"dataframe\">\n",
       "  <thead>\n",
       "    <tr style=\"text-align: right;\">\n",
       "      <th></th>\n",
       "      <th>date</th>\n",
       "      <th>store_nbr</th>\n",
       "      <th>sales</th>\n",
       "      <th>onpromotion</th>\n",
       "      <th>city</th>\n",
       "      <th>state</th>\n",
       "      <th>type</th>\n",
       "      <th>cluster</th>\n",
       "      <th>dcoilwtico</th>\n",
       "      <th>transactions</th>\n",
       "      <th>group</th>\n",
       "      <th>DayOfWeek</th>\n",
       "      <th>Week</th>\n",
       "      <th>Month</th>\n",
       "      <th>Quarter</th>\n",
       "      <th>Year</th>\n",
       "      <th>WeekOfYear</th>\n",
       "    </tr>\n",
       "  </thead>\n",
       "  <tbody>\n",
       "    <tr>\n",
       "      <th>0</th>\n",
       "      <td>2017-08-15</td>\n",
       "      <td>9</td>\n",
       "      <td>16</td>\n",
       "      <td>0</td>\n",
       "      <td>Quito</td>\n",
       "      <td>Pichincha</td>\n",
       "      <td>B</td>\n",
       "      <td>6</td>\n",
       "      <td>47.57</td>\n",
       "      <td>2155.0</td>\n",
       "      <td>food and beverage</td>\n",
       "      <td>1</td>\n",
       "      <td>33</td>\n",
       "      <td>8</td>\n",
       "      <td>3</td>\n",
       "      <td>2017</td>\n",
       "      <td>33</td>\n",
       "    </tr>\n",
       "    <tr>\n",
       "      <th>1</th>\n",
       "      <td>2017-08-15</td>\n",
       "      <td>26</td>\n",
       "      <td>762</td>\n",
       "      <td>10</td>\n",
       "      <td>Guayaquil</td>\n",
       "      <td>Guayas</td>\n",
       "      <td>D</td>\n",
       "      <td>10</td>\n",
       "      <td>47.57</td>\n",
       "      <td>534.0</td>\n",
       "      <td>food and beverage</td>\n",
       "      <td>1</td>\n",
       "      <td>33</td>\n",
       "      <td>8</td>\n",
       "      <td>3</td>\n",
       "      <td>2017</td>\n",
       "      <td>33</td>\n",
       "    </tr>\n",
       "    <tr>\n",
       "      <th>2</th>\n",
       "      <td>2017-08-15</td>\n",
       "      <td>25</td>\n",
       "      <td>93</td>\n",
       "      <td>8</td>\n",
       "      <td>Salinas</td>\n",
       "      <td>Santa Elena</td>\n",
       "      <td>D</td>\n",
       "      <td>1</td>\n",
       "      <td>47.57</td>\n",
       "      <td>849.0</td>\n",
       "      <td>household and cleaning</td>\n",
       "      <td>1</td>\n",
       "      <td>33</td>\n",
       "      <td>8</td>\n",
       "      <td>3</td>\n",
       "      <td>2017</td>\n",
       "      <td>33</td>\n",
       "    </tr>\n",
       "    <tr>\n",
       "      <th>3</th>\n",
       "      <td>2017-08-15</td>\n",
       "      <td>25</td>\n",
       "      <td>3</td>\n",
       "      <td>0</td>\n",
       "      <td>Salinas</td>\n",
       "      <td>Santa Elena</td>\n",
       "      <td>D</td>\n",
       "      <td>1</td>\n",
       "      <td>47.57</td>\n",
       "      <td>849.0</td>\n",
       "      <td>miscellaneous</td>\n",
       "      <td>1</td>\n",
       "      <td>33</td>\n",
       "      <td>8</td>\n",
       "      <td>3</td>\n",
       "      <td>2017</td>\n",
       "      <td>33</td>\n",
       "    </tr>\n",
       "    <tr>\n",
       "      <th>4</th>\n",
       "      <td>2017-08-15</td>\n",
       "      <td>25</td>\n",
       "      <td>3</td>\n",
       "      <td>0</td>\n",
       "      <td>Salinas</td>\n",
       "      <td>Santa Elena</td>\n",
       "      <td>D</td>\n",
       "      <td>1</td>\n",
       "      <td>47.57</td>\n",
       "      <td>849.0</td>\n",
       "      <td>electronics and appliances</td>\n",
       "      <td>1</td>\n",
       "      <td>33</td>\n",
       "      <td>8</td>\n",
       "      <td>3</td>\n",
       "      <td>2017</td>\n",
       "      <td>33</td>\n",
       "    </tr>\n",
       "  </tbody>\n",
       "</table>\n",
       "</div>"
      ],
      "text/plain": [
       "        date  store_nbr  sales  onpromotion       city        state type  cluster  dcoilwtico  transactions                       group  DayOfWeek  Week  Month  Quarter  Year  WeekOfYear\n",
       "0 2017-08-15          9     16            0      Quito    Pichincha    B        6       47.57        2155.0           food and beverage          1    33      8        3  2017          33\n",
       "1 2017-08-15         26    762           10  Guayaquil       Guayas    D       10       47.57         534.0           food and beverage          1    33      8        3  2017          33\n",
       "2 2017-08-15         25     93            8    Salinas  Santa Elena    D        1       47.57         849.0      household and cleaning          1    33      8        3  2017          33\n",
       "3 2017-08-15         25      3            0    Salinas  Santa Elena    D        1       47.57         849.0               miscellaneous          1    33      8        3  2017          33\n",
       "4 2017-08-15         25      3            0    Salinas  Santa Elena    D        1       47.57         849.0  electronics and appliances          1    33      8        3  2017          33"
      ]
     },
     "execution_count": 12,
     "metadata": {},
     "output_type": "execute_result"
    }
   ],
   "source": [
    "df.head()"
   ]
  },
  {
   "cell_type": "code",
   "execution_count": 13,
   "id": "7f25ac38-a6ce-4513-9bca-29e241cc9cd5",
   "metadata": {},
   "outputs": [
    {
     "name": "stderr",
     "output_type": "stream",
     "text": [
      "C:\\Users\\gulsemin.basaran\\AppData\\Local\\Temp\\ipykernel_46560\\2208088809.py:1: FutureWarning: The default value of numeric_only in DataFrame.corr is deprecated. In a future version, it will default to False. Select only valid columns or specify the value of numeric_only to silence this warning.\n",
      "  corr = df.corr()\n"
     ]
    },
    {
     "data": {
      "image/png": "[encoded data removed]",
      "text/plain": [
       "<Figure size 1000x400 with 2 Axes>"
      ]
     },
     "metadata": {},
     "output_type": "display_data"
    }
   ],
   "source": [
    "corr = df.corr()\n",
    "high_corr = corr[abs(corr) > 0.2].fillna(0)\n",
    "plt.figure(figsize=(10, 4))\n",
    "sns.heatmap(high_corr, cmap='coolwarm', annot=True, linewidths=.5)\n",
    "plt.show()"
   ]
  },
  {
   "cell_type": "code",
   "execution_count": 14,
   "id": "a25b9b64-941f-4deb-a8d1-04608acf2f8c",
   "metadata": {},
   "outputs": [
    {
     "data": {
      "text/plain": [
       "'def time_feat_exct(df):\\n    df[\"date\"] = pd.to_datetime(df[\"date\"])\\n    df[\"start_dow_cos\"] = np.cos(2 * np.pi * df[\"DayOfWeek\"] / 6.0).astype(int)\\n    df[\"start_dow_sin\"] = np.sin(2 * np.pi * df[\"DayOfWeek\"] / 6.0).astype(int)\\n\\n    df[\\'start_week_cos\\'] = np.cos(2 * np.pi * df[\"Week\"] / 51.0).astype(int)\\n    df[\\'start_week_sin\\'] = np.sin(2 * np.pi * df[\"Week\"] / 51.0).astype(int)\\n\\n    df[\\'start_month_cos\\'] = np.cos(2 * np.pi * df[\"Month\"] / 12.0).astype(int)\\n    df[\\'start_month_sin\\'] = np.sin(2 * np.pi * df[\"Month\"] / 12.0).astype(int)\\n    return df'"
      ]
     },
     "execution_count": 14,
     "metadata": {},
     "output_type": "execute_result"
    }
   ],
   "source": [
    "\"\"\"def time_feat_exct(df):\n",
    "    df[\"date\"] = pd.to_datetime(df[\"date\"])\n",
    "    df[\"start_dow_cos\"] = np.cos(2 * np.pi * df[\"DayOfWeek\"] / 6.0).astype(int)\n",
    "    df[\"start_dow_sin\"] = np.sin(2 * np.pi * df[\"DayOfWeek\"] / 6.0).astype(int)\n",
    "\n",
    "    df['start_week_cos'] = np.cos(2 * np.pi * df[\"Week\"] / 51.0).astype(int)\n",
    "    df['start_week_sin'] = np.sin(2 * np.pi * df[\"Week\"] / 51.0).astype(int)\n",
    "\n",
    "    df['start_month_cos'] = np.cos(2 * np.pi * df[\"Month\"] / 12.0).astype(int)\n",
    "    df['start_month_sin'] = np.sin(2 * np.pi * df[\"Month\"] / 12.0).astype(int)\n",
    "    return df\"\"\""
   ]
  },
  {
   "cell_type": "code",
   "execution_count": 15,
   "id": "eae5288a-8e07-424c-8e08-5f7745b2c57f",
   "metadata": {},
   "outputs": [
    {
     "data": {
      "text/plain": [
       "'df=time_feat_exct(df)'"
      ]
     },
     "execution_count": 15,
     "metadata": {},
     "output_type": "execute_result"
    }
   ],
   "source": [
    "\"\"\"df=time_feat_exct(df)\"\"\""
   ]
  },
  {
   "cell_type": "code",
   "execution_count": 16,
   "id": "b50d97ae-df5b-4d3f-b203-29bbfb40e819",
   "metadata": {},
   "outputs": [],
   "source": [
    "df = df.drop(['date'], axis=1)"
   ]
  },
  {
   "cell_type": "code",
   "execution_count": 17,
   "id": "128a13f4-294f-47b1-a9b3-6a1f6d6c8aac",
   "metadata": {},
   "outputs": [
    {
     "name": "stdout",
     "output_type": "stream",
     "text": [
      "<class 'pandas.core.frame.DataFrame'>\n",
      "RangeIndex: 3000888 entries, 0 to 3000887\n",
      "Data columns (total 16 columns):\n",
      " #   Column        Dtype  \n",
      "---  ------        -----  \n",
      " 0   store_nbr     int32  \n",
      " 1   sales         int32  \n",
      " 2   onpromotion   int32  \n",
      " 3   city          object \n",
      " 4   state         object \n",
      " 5   type          object \n",
      " 6   cluster       int64  \n",
      " 7   dcoilwtico    float64\n",
      " 8   transactions  float64\n",
      " 9   group         object \n",
      " 10  DayOfWeek     int64  \n",
      " 11  Week          int64  \n",
      " 12  Month         int64  \n",
      " 13  Quarter       int64  \n",
      " 14  Year          int64  \n",
      " 15  WeekOfYear    int64  \n",
      "dtypes: float64(2), int32(3), int64(7), object(4)\n",
      "memory usage: 332.0+ MB\n"
     ]
    }
   ],
   "source": [
    "df.info()"
   ]
  },
  {
   "cell_type": "code",
   "execution_count": 18,
   "id": "9dc38008-9bd2-453e-ad81-b45755bae2b2",
   "metadata": {},
   "outputs": [
    {
     "data": {
      "text/plain": [
       "'phrase_cols = [col for col in df.columns if \"temperature\" in col]\\n\\n# Lagged\\nfor i in [1, 2, 3, 23, 24]:\\n    for col in phrase_cols:\\n        df[col + \"_{}h_lagged\".format(i)] = df[col].shift(i)'"
      ]
     },
     "execution_count": 18,
     "metadata": {},
     "output_type": "execute_result"
    }
   ],
   "source": [
    "\"\"\"phrase_cols = [col for col in df.columns if \"temperature\" in col]\n",
    "\n",
    "# Lagged\n",
    "for i in [1, 2, 3, 23, 24]:\n",
    "    for col in phrase_cols:\n",
    "        df[col + \"_{}h_lagged\".format(i)] = df[col].shift(i)\"\"\""
   ]
  },
  {
   "cell_type": "code",
   "execution_count": 19,
   "id": "14fdf9c0-2254-4628-9667-2d8532d0dd99",
   "metadata": {},
   "outputs": [
    {
     "data": {
      "text/plain": [
       "'# Lead\\nphrase_cols = [col for col in df.columns if\\n               \"temperature\" in col or \"wxPhraseLong\" in col or \"UvIndex\" in col]\\nfor i in [1, 2, 3, 4]:\\n    for col in phrase_cols:\\n        df[col + \"_{}h_lead\".format(i)] = df[col].shift(-i)'"
      ]
     },
     "execution_count": 19,
     "metadata": {},
     "output_type": "execute_result"
    }
   ],
   "source": [
    "\"\"\"# Lead\n",
    "phrase_cols = [col for col in df.columns if\n",
    "               \"temperature\" in col or \"wxPhraseLong\" in col or \"UvIndex\" in col]\n",
    "for i in [1, 2, 3, 4]:\n",
    "    for col in phrase_cols:\n",
    "        df[col + \"_{}h_lead\".format(i)] = df[col].shift(-i)\"\"\""
   ]
  },
  {
   "cell_type": "code",
   "execution_count": 20,
   "id": "b98342c8-cd42-488b-bf55-a216b05bff1a",
   "metadata": {},
   "outputs": [
    {
     "data": {
      "text/plain": [
       "store_nbr            0\n",
       "sales                0\n",
       "onpromotion          0\n",
       "city                 0\n",
       "state                0\n",
       "type                 0\n",
       "cluster              0\n",
       "dcoilwtico      928422\n",
       "transactions    245784\n",
       "group                0\n",
       "DayOfWeek            0\n",
       "Week                 0\n",
       "Month                0\n",
       "Quarter              0\n",
       "Year                 0\n",
       "WeekOfYear           0\n",
       "dtype: int64"
      ]
     },
     "execution_count": 20,
     "metadata": {},
     "output_type": "execute_result"
    }
   ],
   "source": [
    "df.isnull().sum()"
   ]
  },
  {
   "cell_type": "code",
   "execution_count": 21,
   "id": "3be892c7-01ba-41ec-be13-955c79922959",
   "metadata": {},
   "outputs": [
    {
     "data": {
      "text/plain": [
       "['city', 'state', 'type', 'group']"
      ]
     },
     "execution_count": 21,
     "metadata": {},
     "output_type": "execute_result"
    }
   ],
   "source": [
    "cat_columns = list(df.select_dtypes(include=\"object\").columns)\n",
    "cat_columns"
   ]
  },
  {
   "cell_type": "code",
   "execution_count": 22,
   "id": "cbb9dc71-61b9-4c81-b728-58fe5e3258c8",
   "metadata": {},
   "outputs": [
    {
     "data": {
      "text/plain": [
       "['cluster',\n",
       " 'dcoilwtico',\n",
       " 'transactions',\n",
       " 'DayOfWeek',\n",
       " 'Week',\n",
       " 'Month',\n",
       " 'Quarter',\n",
       " 'Year',\n",
       " 'WeekOfYear']"
      ]
     },
     "execution_count": 22,
     "metadata": {},
     "output_type": "execute_result"
    }
   ],
   "source": [
    "num_columns = list(df.select_dtypes(exclude = \"object\").columns[3:])\n",
    "num_columns"
   ]
  },
  {
   "cell_type": "code",
   "execution_count": 23,
   "id": "329fa6df-21f4-4899-91ba-0a3840b3f076",
   "metadata": {},
   "outputs": [],
   "source": [
    "X = df.drop('sales', axis=1)\n",
    "y = df['sales']"
   ]
  },
  {
   "cell_type": "code",
   "execution_count": 24,
   "id": "5df1d54a-d23a-47b7-8b37-da802cf9899c",
   "metadata": {},
   "outputs": [],
   "source": [
    "X_train, X_test, y_train, y_test = mod.train_test_split(X, y, test_size=0.33, random_state=42)"
   ]
  },
  {
   "cell_type": "code",
   "execution_count": 25,
   "id": "1d48bd87-22ea-4b59-bc6e-01351427ebf5",
   "metadata": {},
   "outputs": [
    {
     "name": "stdout",
     "output_type": "stream",
     "text": [
      "(2010594, 15)\n",
      "(990294, 15)\n",
      "(2010594,)\n",
      "(990294,)\n"
     ]
    }
   ],
   "source": [
    "print(X_train.shape)\n",
    "print(X_test.shape)\n",
    "print(y_train.shape)\n",
    "print(y_test.shape)"
   ]
  },
  {
   "cell_type": "code",
   "execution_count": 26,
   "id": "e2b94ac6-4435-4731-a9c3-5f99b00e3c8c",
   "metadata": {},
   "outputs": [
    {
     "data": {
      "text/plain": [
       "\"fig, ax = plt.subplots(figsize=(8, 5))\\nsns.boxplot(data=X_train, x='Month', y=y_train, palette='Blues')\\nax.set_title('MW by Month')\\nplt.show()\""
      ]
     },
     "execution_count": 26,
     "metadata": {},
     "output_type": "execute_result"
    }
   ],
   "source": [
    "\"\"\"fig, ax = plt.subplots(figsize=(8, 5))\n",
    "sns.boxplot(data=X_train, x='Month', y=y_train, palette='Blues')\n",
    "ax.set_title('MW by Month')\n",
    "plt.show()\"\"\""
   ]
  },
  {
   "cell_type": "code",
   "execution_count": 32,
   "id": "87f6004e-85b7-475b-bb42-6e8ed100eedb",
   "metadata": {},
   "outputs": [],
   "source": [
    "pipe_num = pip.Pipeline([\n",
    "    (\"imputer\", SimpleImputer(strategy=\"mean\")),\n",
    "    (\"scaler\", pre.StandardScaler()),\n",
    "])\n",
    "\n",
    "\n",
    "pipe_cat = pip.Pipeline([\n",
    "    (\"imputer\", SimpleImputer(strategy=\"most_frequent\")),\n",
    "    (\"enc\", pre.OneHotEncoder(handle_unknown=\"ignore\")),\n",
    "])\n",
    "\n",
    "ct = com.ColumnTransformer([\n",
    "    ('num', pipe_num, ['cluster','dcoilwtico','transactions','DayOfWeek','Week','Month','Quarter','Year','WeekOfYear']),\n",
    "    ('cat', pipe_cat, ['city', 'state', 'type', 'group'])\n",
    "])\n",
    "\n",
    "pip_final = pip.Pipeline([\n",
    "    ('ct', ct),\n",
    "    ('model', xgb.XGBRegressor(seed=42))\n",
    "])\n",
    "\n",
    "params = {\n",
    "    'model__learning_rate': [0.03, 0.1],\n",
    "    'model__n_estimators' : [100,148,200],\n",
    "    'model__max_depth' : [6,10,20]\n",
    "}\n",
    "\n",
    "\n",
    "def rmsle(y_true,y_pred):\n",
    "    return np.sqrt(mean_squared_log_error(y_true,y_pred))\n",
    "\n",
    "rsmles_scorer=make_scorer(rmsle,greater_is_better=False)\n",
    "\n",
    "grid = GridSearchCV(pip_final,\n",
    "                    param_grid = params,\n",
    "                    scoring = rsmles_scorer,\n",
    "                    cv = TimeSeriesSplit(n_splits=3),\n",
    "                   )\n"
   ]
  },
  {
   "cell_type": "code",
   "execution_count": null,
   "id": "b333fd71-f0ac-4aa3-9fc1-ad6db26aa270",
   "metadata": {},
   "outputs": [],
   "source": [
    "grid.fit(X_train, y_train)"
   ]
  },
  {
   "cell_type": "code",
   "execution_count": null,
   "id": "e39c0f58-2f29-48a7-9e44-e47706f03b4c",
   "metadata": {},
   "outputs": [],
   "source": [
    "best_estimator = grid.best_estimator_\n",
    "y_pred = best_estimator.predict(X_test)\n",
    "\n",
    "y_pred_non_negative = np.maximum(y_pred, 0)\n",
    "y_test_non_negative = np.maximum(y_test, 0)\n",
    "\n",
    "# Calculate RMSLE\n",
    "rsmles_score = rmsle(y_test_non_negative, y_pred_non_negative)\n",
    "print(\"rsmles_score:\", rsmles_score)"
   ]
  },
  {
   "cell_type": "code",
   "execution_count": null,
   "id": "048a1ac0-5805-47fc-aaa8-021be0364c99",
   "metadata": {},
   "outputs": [],
   "source": [
    "\"\"\"reg = xgb.XGBRegressor(n_estimators = 148,\n",
    "                       #objective = 'reg:squarederror',\n",
    "                       learning_rate = 0.03,\n",
    "                       max_depth = 6,\n",
    "                       subsample = 0.6,\n",
    "                       reg_lambda=1,\n",
    "                        reg_alpha= 0.2,\n",
    "                        min_child_weight= 3,\n",
    "                        gamma= 0.3,\n",
    "                        colsample_bytree= 0.7\n",
    "                      )\n",
    "\n",
    "reg.fit(X_train, y_train)\"\"\""
   ]
  },
  {
   "cell_type": "code",
   "execution_count": null,
   "id": "881c45d7-386a-4690-b556-fa0102811a54",
   "metadata": {},
   "outputs": [],
   "source": [
    "df_test['date'] = pd.to_datetime(df_test['date'])\n",
    "df_test['date'] = pd.to_datetime(df_test['date'])\n",
    "df_test['store_nbr'] = df_test['store_nbr'].astype(int)\n",
    "df_test['family'] = df_test['family'].astype(str)\n",
    "df_test['onpromotion'] = df_test['onpromotion'].astype(int)\n",
    "\n",
    "merged_df = pd.merge(df_test, stores, on='store_nbr', how='left')\n",
    "merged_df = pd.merge(merged_df, oil, on='date', how='left')\n",
    "merged_df = pd.merge(merged_df, transactions, on=['date', 'store_nbr'], how='left')\n",
    "merged_df = merged_df.sort_values(by='date', ascending=False)\n",
    "\n",
    "merged_df.reset_index(drop=True, inplace=True)\n",
    "merged_df = merged_df.drop(columns=['id'])\n",
    "df_test=merged_df"
   ]
  },
  {
   "cell_type": "code",
   "execution_count": null,
   "id": "0b479d3e-7665-417c-bcb5-2238c61b3eec",
   "metadata": {},
   "outputs": [],
   "source": [
    "food_and_beverage_categories = [\n",
    "    'SEAFOOD', 'BEVERAGES', 'POULTRY', 'PREPARED FOODS', 'PRODUCE',\n",
    "    'BREAD/BAKERY', 'DAIRY', 'DELI', 'EGGS', 'FROZEN FOODS', 'MEATS',\n",
    "    'LIQUOR,WINE,BEER'\n",
    "]\n",
    "\n",
    "household_and_cleaning_categories = ['PERSONAL CARE', 'CLEANING', 'HOME CARE', 'LAWN AND GARDEN']\n",
    "\n",
    "electronics_and_appliances_categories = ['PLAYERS AND ELECTRONICS', 'HOME APPLIANCES', 'HARDWARE']\n",
    "\n",
    "apparel_and_personal_items_categories = ['BABY CARE', 'BEAUTY', 'LINGERIE', 'LADIESWEAR']\n",
    "\n",
    "home_and_office_supplies_categories = ['SCHOOL AND OFFICE SUPPLIES', 'HOME AND KITCHEN I', 'HOME AND KITCHEN II', 'CELEBRATION']\n",
    "\n",
    "miscellaneous_categories = ['PET SUPPLIES', 'AUTOMOTIVE', 'BOOKS', 'MAGAZINES', 'GROCERY I', 'GROCERY II']\n",
    "\n",
    "# Create a new column 'group' based on the conditions\n",
    "df_test['group'] = df_test['family'].apply(lambda x: \n",
    "                                 'food and beverage' if x in food_and_beverage_categories \n",
    "                                 else ('household and cleaning' if x in household_and_cleaning_categories \n",
    "                                       else ('electronics and appliances' if x in electronics_and_appliances_categories \n",
    "                                             else ('apparel and personal items' if x in apparel_and_personal_items_categories \n",
    "                                                   else ('home and office supplies' if x in home_and_office_supplies_categories \n",
    "                                                         else ('miscellaneous' if x in miscellaneous_categories \n",
    "                                                               else 0))))))"
   ]
  },
  {
   "cell_type": "code",
   "execution_count": null,
   "id": "fb0ff1e5-cef6-46ab-9224-64291d5e725a",
   "metadata": {},
   "outputs": [],
   "source": [
    "df_test = df_test.drop(['family'], axis=1)"
   ]
  },
  {
   "cell_type": "code",
   "execution_count": null,
   "id": "e8a0b1a1-73fb-48cc-ac16-fde8378ae153",
   "metadata": {},
   "outputs": [],
   "source": [
    "df_test['DayOfWeek'] = df_test['date'].dt.dayofweek\n",
    "df_test['date'] = pd.to_datetime(df_test['date'])\n",
    "df_test['Week'] = df_test['date'].dt.week\n",
    "df_test['Month'] = df_test['date'].dt.month\n",
    "df_test[\"Quarter\"] = df_test[\"date\"].dt.quarter\n",
    "df_test[\"Year\"] = df_test[\"date\"].dt.year\n",
    "df_test[\"WeekOfYear\"] = df_test[\"date\"].dt.weekofyear"
   ]
  },
  {
   "cell_type": "code",
   "execution_count": null,
   "id": "72eac546-2230-4dd7-a385-90f80c12be4b",
   "metadata": {},
   "outputs": [],
   "source": [
    "\"\"\"def time_feat_exct(df_test):\n",
    "    df_test[\"date\"] = pd.to_datetime(df_test[\"date\"])\n",
    "    df_test[\"start_dow_cos\"] = np.cos(2 * np.pi * df_test[\"DayOfWeek\"] / 6.0).astype(int)\n",
    "    df_test[\"start_dow_sin\"] = np.sin(2 * np.pi * df_test[\"DayOfWeek\"] / 6.0).astype(int)\n",
    "\n",
    "    df_test['start_week_cos'] = np.cos(2 * np.pi * df_test[\"Week\"] / 51.0).astype(int)\n",
    "    df_test['start_week_sin'] = np.sin(2 * np.pi * df_test[\"Week\"] / 51.0).astype(int)\n",
    "\n",
    "    df_test['start_month_cos'] = np.cos(2 * np.pi * df_test[\"Month\"] / 12.0).astype(int)\n",
    "    df_test['start_month_sin'] = np.sin(2 * np.pi * df_test[\"Month\"] / 12.0).astype(int)\n",
    "    return df_test\"\"\""
   ]
  },
  {
   "cell_type": "code",
   "execution_count": null,
   "id": "be161790-9e45-4a4e-8bd4-060ed6ce9b50",
   "metadata": {},
   "outputs": [],
   "source": [
    "\"\"\"df_test=time_feat_exct(df_test)\"\"\""
   ]
  },
  {
   "cell_type": "code",
   "execution_count": null,
   "id": "20a9a6e6-face-4ee1-a79d-a226e27adb41",
   "metadata": {},
   "outputs": [],
   "source": [
    "df_test = df_test.drop(['date'], axis=1)"
   ]
  },
  {
   "cell_type": "code",
   "execution_count": null,
   "id": "5521457a-8a84-4a2a-9a41-38c23b254017",
   "metadata": {},
   "outputs": [],
   "source": [
    "best_estimator.fit(X,y)"
   ]
  },
  {
   "cell_type": "code",
   "execution_count": null,
   "id": "ccc56704-cf6a-4421-be85-0ad293d1d334",
   "metadata": {},
   "outputs": [],
   "source": [
    "y_pred = best_estimator.predict(df_test)\n",
    "submit_df = pd.DataFrame({'id': df_test.index, 'sales': y_pred})\n",
    "print(submit_df)\n",
    "\n",
    "\n",
    "submit_df.to_csv('submit2.csv', index=False)"
   ]
  },
  {
   "cell_type": "code",
   "execution_count": null,
   "id": "51f5150b-401a-44c2-89db-9f0a55618ff1",
   "metadata": {},
   "outputs": [],
   "source": []
  },
  {
   "cell_type": "code",
   "execution_count": null,
   "id": "e847bb30-44c0-4d93-ae61-dc940e7d7a59",
   "metadata": {},
   "outputs": [],
   "source": []
  },
  {
   "cell_type": "code",
   "execution_count": null,
   "id": "85b28889-4be7-4d25-ab8d-a4ae6285a73c",
   "metadata": {},
   "outputs": [],
   "source": []
  }
 ],
 "metadata": {
  "kernelspec": {
   "display_name": "Python 3 (ipykernel)",
   "language": "python",
   "name": "python3"
  },
  "language_info": {
   "codemirror_mode": {
    "name": "ipython",
    "version": 3
   },
   "file_extension": ".py",
   "mimetype": "text/x-python",
   "name": "python",
   "nbconvert_exporter": "python",
   "pygments_lexer": "ipython3",
   "version": "3.10.9"
  }
 },
 "nbformat": 4,
 "nbformat_minor": 5
}
